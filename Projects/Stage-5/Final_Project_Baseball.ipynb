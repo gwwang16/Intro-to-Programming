{
 "cells": [
  {
   "cell_type": "markdown",
   "metadata": {},
   "source": [
    "# Data Analyst Project"
   ]
  },
  {
   "cell_type": "markdown",
   "metadata": {
    "collapsed": true
   },
   "source": [
    "The <a href=\"http://www.seanlahman.com/baseball-archive/statistics/\">Baseball Data</a> is used for data analyst in this project. The salary is choose as analysis object.\n",
    "\n",
    "Question posed:\n",
    "1. How the salary changing in these years?\n",
    "2. What is the relationship between salary and different performance metrics? \n",
    "3. Are HomeRuns and Hits metrics influence players' salaries?\n",
    "4. What is player's name with the highest salary?\n"
   ]
  },
  {
   "cell_type": "markdown",
   "metadata": {
    "collapsed": true
   },
   "source": [
    "## Load Data from CSVs"
   ]
  },
  {
   "cell_type": "code",
   "execution_count": 2,
   "metadata": {
    "collapsed": false
   },
   "outputs": [],
   "source": [
    "## Import libraries\n",
    "import numpy as np\n",
    "import pandas as pd\n",
    "import matplotlib.pyplot as plt\n",
    "import seaborn as sns\n",
    "%matplotlib inline"
   ]
  },
  {
   "cell_type": "code",
   "execution_count": 3,
   "metadata": {
    "collapsed": false
   },
   "outputs": [],
   "source": [
    "## Load data from the files which I interested with\n",
    "## Read these data and store them in pandas' data frame.\n",
    "file_path = 'baseballdatabank-master/core/'\n",
    "Master = pd.read_csv(file_path + 'Master.csv')\n",
    "Batting = pd.read_csv(file_path + 'Batting.csv')\n",
    "Salaries = pd.read_csv(file_path + 'Salaries.csv')"
   ]
  },
  {
   "cell_type": "code",
   "execution_count": 4,
   "metadata": {
    "collapsed": false
   },
   "outputs": [
    {
     "data": {
      "text/html": [
       "<div>\n",
       "<table border=\"1\" class=\"dataframe\">\n",
       "  <thead>\n",
       "    <tr style=\"text-align: right;\">\n",
       "      <th></th>\n",
       "      <th>yearID</th>\n",
       "      <th>teamID</th>\n",
       "      <th>lgID</th>\n",
       "      <th>playerID</th>\n",
       "      <th>salary</th>\n",
       "    </tr>\n",
       "  </thead>\n",
       "  <tbody>\n",
       "    <tr>\n",
       "      <th>0</th>\n",
       "      <td>1985</td>\n",
       "      <td>ATL</td>\n",
       "      <td>NL</td>\n",
       "      <td>barkele01</td>\n",
       "      <td>870000</td>\n",
       "    </tr>\n",
       "  </tbody>\n",
       "</table>\n",
       "</div>"
      ],
      "text/plain": [
       "   yearID teamID lgID   playerID  salary\n",
       "0    1985    ATL   NL  barkele01  870000"
      ]
     },
     "execution_count": 4,
     "metadata": {},
     "output_type": "execute_result"
    }
   ],
   "source": [
    "## Look at the first row of Salaries and Batting dataframe\n",
    "Salaries.head(1)"
   ]
  },
  {
   "cell_type": "code",
   "execution_count": 5,
   "metadata": {
    "collapsed": false
   },
   "outputs": [
    {
     "data": {
      "text/html": [
       "<div>\n",
       "<table border=\"1\" class=\"dataframe\">\n",
       "  <thead>\n",
       "    <tr style=\"text-align: right;\">\n",
       "      <th></th>\n",
       "      <th>playerID</th>\n",
       "      <th>yearID</th>\n",
       "      <th>stint</th>\n",
       "      <th>teamID</th>\n",
       "      <th>lgID</th>\n",
       "      <th>G</th>\n",
       "      <th>AB</th>\n",
       "      <th>R</th>\n",
       "      <th>H</th>\n",
       "      <th>2B</th>\n",
       "      <th>...</th>\n",
       "      <th>RBI</th>\n",
       "      <th>SB</th>\n",
       "      <th>CS</th>\n",
       "      <th>BB</th>\n",
       "      <th>SO</th>\n",
       "      <th>IBB</th>\n",
       "      <th>HBP</th>\n",
       "      <th>SH</th>\n",
       "      <th>SF</th>\n",
       "      <th>GIDP</th>\n",
       "    </tr>\n",
       "  </thead>\n",
       "  <tbody>\n",
       "    <tr>\n",
       "      <th>0</th>\n",
       "      <td>abercda01</td>\n",
       "      <td>1871</td>\n",
       "      <td>1</td>\n",
       "      <td>TRO</td>\n",
       "      <td>NaN</td>\n",
       "      <td>1</td>\n",
       "      <td>4.0</td>\n",
       "      <td>0.0</td>\n",
       "      <td>0.0</td>\n",
       "      <td>0.0</td>\n",
       "      <td>...</td>\n",
       "      <td>0.0</td>\n",
       "      <td>0.0</td>\n",
       "      <td>0.0</td>\n",
       "      <td>0.0</td>\n",
       "      <td>0.0</td>\n",
       "      <td>NaN</td>\n",
       "      <td>NaN</td>\n",
       "      <td>NaN</td>\n",
       "      <td>NaN</td>\n",
       "      <td>NaN</td>\n",
       "    </tr>\n",
       "  </tbody>\n",
       "</table>\n",
       "<p>1 rows × 22 columns</p>\n",
       "</div>"
      ],
      "text/plain": [
       "    playerID  yearID  stint teamID lgID  G   AB    R    H   2B  ...   RBI  \\\n",
       "0  abercda01    1871      1    TRO  NaN  1  4.0  0.0  0.0  0.0  ...   0.0   \n",
       "\n",
       "    SB   CS   BB   SO  IBB  HBP  SH  SF  GIDP  \n",
       "0  0.0  0.0  0.0  0.0  NaN  NaN NaN NaN   NaN  \n",
       "\n",
       "[1 rows x 22 columns]"
      ]
     },
     "execution_count": 5,
     "metadata": {},
     "output_type": "execute_result"
    }
   ],
   "source": [
    "Batting.head(1)"
   ]
  },
  {
   "cell_type": "markdown",
   "metadata": {},
   "source": [
    "## Dealing with Missing Data"
   ]
  },
  {
   "cell_type": "code",
   "execution_count": 7,
   "metadata": {
    "collapsed": false
   },
   "outputs": [
    {
     "name": "stdout",
     "output_type": "stream",
     "text": [
      "<class 'pandas.core.frame.DataFrame'>\n",
      "RangeIndex: 101332 entries, 0 to 101331\n",
      "Data columns (total 22 columns):\n",
      "playerID    101332 non-null object\n",
      "yearID      101332 non-null int64\n",
      "stint       101332 non-null int64\n",
      "teamID      101332 non-null object\n",
      "lgID        100595 non-null object\n",
      "G           101332 non-null int64\n",
      "AB          96183 non-null float64\n",
      "R           96183 non-null float64\n",
      "H           96183 non-null float64\n",
      "2B          96183 non-null float64\n",
      "3B          96183 non-null float64\n",
      "HR          96183 non-null float64\n",
      "RBI         95759 non-null float64\n",
      "SB          94883 non-null float64\n",
      "CS          72729 non-null float64\n",
      "BB          96183 non-null float64\n",
      "SO          88345 non-null float64\n",
      "IBB         59620 non-null float64\n",
      "HBP         93373 non-null float64\n",
      "SH          89845 non-null float64\n",
      "SF          60151 non-null float64\n",
      "GIDP        70075 non-null float64\n",
      "dtypes: float64(16), int64(3), object(3)\n",
      "memory usage: 17.0+ MB\n"
     ]
    }
   ],
   "source": [
    "## Look at value missing in each item column of batting table.\n",
    "Batting.info()"
   ]
  },
  {
   "cell_type": "code",
   "execution_count": 207,
   "metadata": {
    "collapsed": false
   },
   "outputs": [
    {
     "name": "stdout",
     "output_type": "stream",
     "text": [
      "playerID value missing number is 0\n",
      "yearID value missing number is 0\n",
      "stint value missing number is 0\n",
      "teamID value missing number is 0\n",
      "lgID value missing number is 737\n",
      "G value missing number is 0\n",
      "AB value missing number is 5149\n",
      "R value missing number is 5149\n",
      "H value missing number is 5149\n",
      "2B value missing number is 5149\n",
      "3B value missing number is 5149\n",
      "HR value missing number is 5149\n",
      "RBI value missing number is 5573\n",
      "SB value missing number is 6449\n",
      "CS value missing number is 28603\n",
      "BB value missing number is 5149\n",
      "SO value missing number is 12987\n",
      "IBB value missing number is 41712\n",
      "HBP value missing number is 7959\n",
      "SH value missing number is 11487\n",
      "SF value missing number is 41181\n",
      "GIDP value missing number is 31256\n"
     ]
    }
   ],
   "source": [
    "## In the Batting dataframe, there are some metrics data missing.\n",
    "## Such as, IgID, IBB, HBP, SH, SF, and GIDP from the above table.\n",
    "\n",
    "## Count the number of value missing in each item column of batting table.\n",
    "for column in Batting.columns:\n",
    "    num = 0\n",
    "    for value in pd.isnull(Batting[column]):\n",
    "        if value == True:\n",
    "            num += 1\n",
    "    print  column, \"value missing number is\", num"
   ]
  },
  {
   "cell_type": "code",
   "execution_count": 225,
   "metadata": {
    "collapsed": false
   },
   "outputs": [
    {
     "name": "stdout",
     "output_type": "stream",
     "text": [
      "yearID value missing number is 0\n",
      "teamID value missing number is 0\n",
      "lgID value missing number is 0\n",
      "playerID value missing number is 0\n",
      "salary value missing number is 0\n"
     ]
    }
   ],
   "source": [
    "## Count the number of value missing in each item column of Salaries table.\n",
    "for column in Salaries.columns:\n",
    "    num = 0\n",
    "    for value in pd.isnull(Salaries[column]):\n",
    "        if value == True:\n",
    "            num += 1\n",
    "    print  column, \"value missing number is\", num"
   ]
  },
  {
   "cell_type": "code",
   "execution_count": 215,
   "metadata": {
    "collapsed": false
   },
   "outputs": [
    {
     "data": {
      "text/plain": [
       "59544"
      ]
     },
     "execution_count": 215,
     "metadata": {},
     "output_type": "execute_result"
    }
   ],
   "source": [
    "## The teamID values missing occured before 1786, \n",
    "## which can be found in the original dataset in excel.\n",
    "\n",
    "## Other data are missing at random, so analysing only the available data here.\n",
    "## Remove any index with performance metrics data missing using DataFrame.dropna.\n",
    "Batting_non_null = Batting.dropna(axis=0, how='any')\n",
    "len(Batting_non_null)"
   ]
  },
  {
   "cell_type": "code",
   "execution_count": 218,
   "metadata": {
    "collapsed": false
   },
   "outputs": [
    {
     "data": {
      "text/html": [
       "<div>\n",
       "<table border=\"1\" class=\"dataframe\">\n",
       "  <thead>\n",
       "    <tr style=\"text-align: right;\">\n",
       "      <th></th>\n",
       "      <th>playerID</th>\n",
       "      <th>yearID</th>\n",
       "      <th>stint</th>\n",
       "      <th>teamID</th>\n",
       "      <th>lgID</th>\n",
       "      <th>G</th>\n",
       "      <th>AB</th>\n",
       "      <th>R</th>\n",
       "      <th>H</th>\n",
       "      <th>2B</th>\n",
       "      <th>...</th>\n",
       "      <th>RBI</th>\n",
       "      <th>SB</th>\n",
       "      <th>CS</th>\n",
       "      <th>BB</th>\n",
       "      <th>SO</th>\n",
       "      <th>IBB</th>\n",
       "      <th>HBP</th>\n",
       "      <th>SH</th>\n",
       "      <th>SF</th>\n",
       "      <th>GIDP</th>\n",
       "    </tr>\n",
       "  </thead>\n",
       "  <tbody>\n",
       "    <tr>\n",
       "      <th>4560</th>\n",
       "      <td>colemjo02</td>\n",
       "      <td>1890</td>\n",
       "      <td>1</td>\n",
       "      <td>PHI</td>\n",
       "      <td>NL</td>\n",
       "      <td>1</td>\n",
       "      <td>0.0</td>\n",
       "      <td>0.0</td>\n",
       "      <td>0.0</td>\n",
       "      <td>0.0</td>\n",
       "      <td>...</td>\n",
       "      <td>0.0</td>\n",
       "      <td>0.0</td>\n",
       "      <td>0.0</td>\n",
       "      <td>0.0</td>\n",
       "      <td>0.0</td>\n",
       "      <td>0.0</td>\n",
       "      <td>0.0</td>\n",
       "      <td>0.0</td>\n",
       "      <td>0.0</td>\n",
       "      <td>0.0</td>\n",
       "    </tr>\n",
       "  </tbody>\n",
       "</table>\n",
       "<p>1 rows × 22 columns</p>\n",
       "</div>"
      ],
      "text/plain": [
       "       playerID  yearID  stint teamID lgID  G   AB    R    H   2B  ...   RBI  \\\n",
       "4560  colemjo02    1890      1    PHI   NL  1  0.0  0.0  0.0  0.0  ...   0.0   \n",
       "\n",
       "       SB   CS   BB   SO  IBB  HBP   SH   SF  GIDP  \n",
       "4560  0.0  0.0  0.0  0.0  0.0  0.0  0.0  0.0   0.0  \n",
       "\n",
       "[1 rows x 22 columns]"
      ]
     },
     "execution_count": 218,
     "metadata": {},
     "output_type": "execute_result"
    }
   ],
   "source": [
    "## Look at the first row of dropna batting data.\n",
    "Batting_non_null.head(1)"
   ]
  },
  {
   "cell_type": "markdown",
   "metadata": {},
   "source": [
    "## Dependent Variable Analysis"
   ]
  },
  {
   "cell_type": "code",
   "execution_count": 219,
   "metadata": {
    "collapsed": false
   },
   "outputs": [
    {
     "data": {
      "text/html": [
       "<div>\n",
       "<table border=\"1\" class=\"dataframe\">\n",
       "  <thead>\n",
       "    <tr style=\"text-align: right;\">\n",
       "      <th></th>\n",
       "      <th>yearID</th>\n",
       "      <th>teamID</th>\n",
       "      <th>lgID</th>\n",
       "      <th>playerID</th>\n",
       "      <th>salary</th>\n",
       "      <th>stint</th>\n",
       "      <th>G</th>\n",
       "      <th>AB</th>\n",
       "      <th>R</th>\n",
       "      <th>H</th>\n",
       "      <th>...</th>\n",
       "      <th>RBI</th>\n",
       "      <th>SB</th>\n",
       "      <th>CS</th>\n",
       "      <th>BB</th>\n",
       "      <th>SO</th>\n",
       "      <th>IBB</th>\n",
       "      <th>HBP</th>\n",
       "      <th>SH</th>\n",
       "      <th>SF</th>\n",
       "      <th>GIDP</th>\n",
       "    </tr>\n",
       "  </thead>\n",
       "  <tbody>\n",
       "    <tr>\n",
       "      <th>0</th>\n",
       "      <td>1985</td>\n",
       "      <td>ATL</td>\n",
       "      <td>NL</td>\n",
       "      <td>barkele01</td>\n",
       "      <td>870000</td>\n",
       "      <td>1</td>\n",
       "      <td>20</td>\n",
       "      <td>17.0</td>\n",
       "      <td>0.0</td>\n",
       "      <td>0.0</td>\n",
       "      <td>...</td>\n",
       "      <td>0.0</td>\n",
       "      <td>0.0</td>\n",
       "      <td>1.0</td>\n",
       "      <td>0.0</td>\n",
       "      <td>7.0</td>\n",
       "      <td>0.0</td>\n",
       "      <td>0.0</td>\n",
       "      <td>0.0</td>\n",
       "      <td>0.0</td>\n",
       "      <td>0.0</td>\n",
       "    </tr>\n",
       "  </tbody>\n",
       "</table>\n",
       "<p>1 rows × 23 columns</p>\n",
       "</div>"
      ],
      "text/plain": [
       "   yearID teamID lgID   playerID  salary  stint   G    AB    R    H  ...   \\\n",
       "0    1985    ATL   NL  barkele01  870000      1  20  17.0  0.0  0.0  ...    \n",
       "\n",
       "   RBI   SB   CS   BB   SO  IBB  HBP   SH   SF  GIDP  \n",
       "0  0.0  0.0  1.0  0.0  7.0  0.0  0.0  0.0  0.0   0.0  \n",
       "\n",
       "[1 rows x 23 columns]"
      ]
     },
     "execution_count": 219,
     "metadata": {},
     "output_type": "execute_result"
    }
   ],
   "source": [
    "## Merge Salaries and Batting dropna dataframe to investigate \n",
    "## the relationship between salary and performance metrics.\n",
    "Salaries_Batting = Salaries.merge(Batting_non_null, how='inner')\n",
    "Salaries_Batting.head(1)"
   ]
  },
  {
   "cell_type": "code",
   "execution_count": 220,
   "metadata": {
    "collapsed": false
   },
   "outputs": [
    {
     "data": {
      "text/plain": [
       "22749"
      ]
     },
     "execution_count": 220,
     "metadata": {},
     "output_type": "execute_result"
    }
   ],
   "source": [
    "# The fixed dataset length\n",
    "len(Salaries_Batting)"
   ]
  },
  {
   "cell_type": "code",
   "execution_count": 314,
   "metadata": {
    "collapsed": false
   },
   "outputs": [],
   "source": [
    "## Looking at some dependent variables to find whether thare are anomalies, \n",
    "## such as outliers, skewed distributions, in them.\n",
    "\n",
    "def evalute_data(items_evaluted):\n",
    "    \"\"\"Print summary statistics about the data and make histograms. (mean, Standard deviation, min, and max)\"\"\"\n",
    "    print 'Mean:', np.mean(items_evaluted)\n",
    "    print 'Std:', np.std(items_evaluted)\n",
    "    print 'Min/Max:', np.min(items_evaluted) ,\"/\", np.max(items_evaluted)\n",
    "    print 'Median:', np.median(items_evaluted)"
   ]
  },
  {
   "cell_type": "code",
   "execution_count": 315,
   "metadata": {
    "collapsed": false
   },
   "outputs": [
    {
     "name": "stdout",
     "output_type": "stream",
     "text": [
      "Mean: 2144725.57022\n",
      "Std: 3437858.14798\n",
      "Min/Max: 0 / 33000000\n",
      "Median: 600000.0\n"
     ]
    },
    {
     "data": {
      "image/png": "[encoded data removed]",
      "text/plain": [
       "<matplotlib.figure.Figure at 0x2910e320>"
      ]
     },
     "metadata": {},
     "output_type": "display_data"
    }
   ],
   "source": [
    "## Box plot of salaryies\n",
    "sns.boxplot(Salaries_Batting.salary, orient = 'v')\n",
    "plt.title('Box Plot of Salaries')\n",
    "plt.ylabel('Salary')\n",
    "evalute_data(Salaries_Batting.salary)"
   ]
  },
  {
   "cell_type": "markdown",
   "metadata": {},
   "source": [
    "The box plot reveals that there are many definite outliers for salaries. The mean salaries are influenced considerably, not explain global salaries trend."
   ]
  },
  {
   "cell_type": "code",
   "execution_count": 316,
   "metadata": {
    "collapsed": false
   },
   "outputs": [
    {
     "name": "stdout",
     "output_type": "stream",
     "text": [
      "Mean: 5.52340762231\n",
      "Std: 8.88612636081\n",
      "Min/Max: 0.0 / 73.0\n",
      "Median: 1.0\n"
     ]
    },
    {
     "data": {
      "text/plain": [
       "<matplotlib.text.Text at 0x29106240>"
      ]
     },
     "execution_count": 316,
     "metadata": {},
     "output_type": "execute_result"
    },
    {
     "data": {
      "image/png": "[encoded data removed]",
      "text/plain": [
       "<matplotlib.figure.Figure at 0x297b2be0>"
      ]
     },
     "metadata": {},
     "output_type": "display_data"
    }
   ],
   "source": [
    "## Histogram of performance metric Homeruns (HR)\n",
    "evalute_data(Salaries_Batting.HR)\n",
    "sns.distplot(Salaries_Batting.HR, kde=False)\n",
    "plt.title('Histogram of performance metric Homeruns')\n",
    "plt.xlabel('The Number of Homeruns')"
   ]
  },
  {
   "cell_type": "markdown",
   "metadata": {},
   "source": [
    "The data distribution is Extremely skewed. player's number drops dramatically at 1, and then decreases with the HR number increases. This trend makes sense in the real world. Few of players need homeruns, of whom the higher HR number, the less players can do that.  "
   ]
  },
  {
   "cell_type": "code",
   "execution_count": 317,
   "metadata": {
    "collapsed": false,
    "scrolled": true
   },
   "outputs": [
    {
     "name": "stdout",
     "output_type": "stream",
     "text": [
      "Mean: 49.4451624247\n",
      "Std: 58.680515606\n",
      "Min/Max: 0.0 / 262.0\n",
      "Median: 19.0\n"
     ]
    },
    {
     "data": {
      "text/plain": [
       "<matplotlib.text.Text at 0x28c8c5c0>"
      ]
     },
     "execution_count": 317,
     "metadata": {},
     "output_type": "execute_result"
    },
    {
     "data": {
      "image/png": "[encoded data removed]",
      "text/plain": [
       "<matplotlib.figure.Figure at 0x28e02ba8>"
      ]
     },
     "metadata": {},
     "output_type": "display_data"
    }
   ],
   "source": [
    "## Histogram of performance metric Hits (H)\n",
    "evalute_data(Salaries_Batting.H)\n",
    "sns.distplot(Salaries_Batting.H, kde=False)\n",
    "plt.title('Histogram of performance metric Hits')\n",
    "plt.xlabel('The Number of Hits')"
   ]
  },
  {
   "cell_type": "markdown",
   "metadata": {},
   "source": [
    "This trend is quite similar with above one. But the decrease trend is more smooth after the H number 1. "
   ]
  },
  {
   "cell_type": "markdown",
   "metadata": {},
   "source": [
    "## Multiple Variable Analysis"
   ]
  },
  {
   "cell_type": "code",
   "execution_count": 320,
   "metadata": {
    "collapsed": false
   },
   "outputs": [
    {
     "data": {
      "text/plain": [
       "<matplotlib.text.Text at 0x28729390>"
      ]
     },
     "execution_count": 320,
     "metadata": {},
     "output_type": "execute_result"
    },
    {
     "data": {
      "image/png": "[encoded data removed]",
      "text/plain": [
       "<matplotlib.figure.Figure at 0x29187ef0>"
      ]
     },
     "metadata": {},
     "output_type": "display_data"
    }
   ],
   "source": [
    "## To investigate the relationship between salary and performance metrics in batting table, the correlation coefficient is calculated.\n",
    "\n",
    "corr_Salaries_Batting = Salaries_Batting.corr(method='pearson')\n",
    "\n",
    "x_axis = [i + 0.2 for i, _ in enumerate(corr_Salaries_Batting)]\n",
    "plt.bar(x_axis, corr_Salaries_Batting.salary)\n",
    "plt.xticks([i + 0.5 for i, _ in enumerate(corr_Salaries_Batting)],\n",
    "           corr_Salaries_Batting, rotation=90)\n",
    "plt.ylabel(\"Correlation coefficient\")\n",
    "plt.title('Correlation between the salary and other performances in batting')"
   ]
  },
  {
   "cell_type": "markdown",
   "metadata": {},
   "source": [
    "In this figure, we can find that the year, HR, and RBI have higher correlation coeffient than other factors in terms of salary."
   ]
  },
  {
   "cell_type": "code",
   "execution_count": 322,
   "metadata": {
    "collapsed": false
   },
   "outputs": [
    {
     "data": {
      "text/plain": [
       "<matplotlib.text.Text at 0x283a9a90>"
      ]
     },
     "execution_count": 322,
     "metadata": {},
     "output_type": "execute_result"
    },
    {
     "data": {
      "image/png": "[encoded data removed]",
      "text/plain": [
       "<matplotlib.figure.Figure at 0x291060f0>"
      ]
     },
     "metadata": {},
     "output_type": "display_data"
    }
   ],
   "source": [
    "## Group the data by year to look at the relation between year and salary.\n",
    "## We have known that there are many outliers in salaries values in front analysis, so the median and IQR standards are used.\n",
    "\n",
    "grouped_by_year = Salaries_Batting.groupby('yearID', as_index = False)\n",
    "\n",
    "median_salary_each_year = grouped_by_year.median()\n",
    "iqr_salary_each_year = grouped_by_year.quantile(.75) - grouped_by_year.quantile(.25)\n",
    "plt.plot(median_salary_each_year.yearID, median_salary_each_year.salary, label='Median salary')\n",
    "plt.plot(median_salary_each_year.yearID, iqr_salary_each_year.salary, label='IQR salary')\n",
    "plt.legend()\n",
    "plt.xlabel(\"Year\")\n",
    "plt.ylabel(\"Salary\")\n",
    "plt.title(\"The Salary Change Trend\")"
   ]
  },
  {
   "cell_type": "markdown",
   "metadata": {},
   "source": [
    "The salary increases as a whole in these years, except the periods of 1992-1995 and 2002-2004 have a slightly downward trend. IQR salary increases more obviously than median salary."
   ]
  },
  {
   "cell_type": "code",
   "execution_count": 335,
   "metadata": {
    "collapsed": false,
    "scrolled": true
   },
   "outputs": [
    {
     "data": {
      "text/plain": [
       "<matplotlib.text.Text at 0x303813c8>"
      ]
     },
     "execution_count": 335,
     "metadata": {},
     "output_type": "execute_result"
    },
    {
     "data": {
      "image/png": "[encoded data removed]",
      "text/plain": [
       "<matplotlib.figure.Figure at 0x305482e8>"
      ]
     },
     "metadata": {},
     "output_type": "display_data"
    }
   ],
   "source": [
    "## Plot the relationship between salary and homeruns numbers.\n",
    "sns.regplot(Salaries_Batting.HR, Salaries_Batting.salary, fit_reg = False)\n",
    "plt.xlabel(\"HomeRuns Number\")\n",
    "plt.ylabel(\"Salary\")\n",
    "plt.title(\"The Salary Change Trend\")"
   ]
  },
  {
   "cell_type": "markdown",
   "metadata": {},
   "source": [
    "In this figure, it is hard to find a linear correlation between HR number and salary. The players, who have a very high HR number, only have a median salary."
   ]
  },
  {
   "cell_type": "code",
   "execution_count": 338,
   "metadata": {
    "collapsed": false
   },
   "outputs": [
    {
     "data": {
      "text/plain": [
       "<matplotlib.text.Text at 0x2f188208>"
      ]
     },
     "execution_count": 338,
     "metadata": {},
     "output_type": "execute_result"
    },
    {
     "data": {
      "image/png": "[encoded data removed]",
      "text/plain": [
       "<matplotlib.figure.Figure at 0x304532b0>"
      ]
     },
     "metadata": {},
     "output_type": "display_data"
    }
   ],
   "source": [
    "## Plot the relationship between salary and hits numbers.\n",
    "sns.regplot(Salaries_Batting.H, Salaries_Batting.salary, fit_reg = False)\n",
    "plt.xlabel(\"Hits Number\")\n",
    "plt.ylabel(\"Salary\")\n",
    "plt.title(\"The Salary Change Trend\")"
   ]
  },
  {
   "cell_type": "markdown",
   "metadata": {},
   "source": [
    "In the same, it is hard to find a linear correlation between H number and salary  in this figure."
   ]
  },
  {
   "cell_type": "markdown",
   "metadata": {},
   "source": [
    "## Find The Highest Salary Player"
   ]
  },
  {
   "cell_type": "code",
   "execution_count": 339,
   "metadata": {
    "collapsed": false,
    "scrolled": true
   },
   "outputs": [
    {
     "data": {
      "text/html": [
       "<div>\n",
       "<table border=\"1\" class=\"dataframe\">\n",
       "  <thead>\n",
       "    <tr style=\"text-align: right;\">\n",
       "      <th></th>\n",
       "      <th>yearID</th>\n",
       "      <th>teamID</th>\n",
       "      <th>lgID</th>\n",
       "      <th>playerID</th>\n",
       "      <th>salary</th>\n",
       "      <th>birthYear</th>\n",
       "      <th>birthMonth</th>\n",
       "      <th>birthDay</th>\n",
       "      <th>birthCountry</th>\n",
       "      <th>birthState</th>\n",
       "      <th>...</th>\n",
       "      <th>nameLast</th>\n",
       "      <th>nameGiven</th>\n",
       "      <th>weight</th>\n",
       "      <th>height</th>\n",
       "      <th>bats</th>\n",
       "      <th>throws</th>\n",
       "      <th>debut</th>\n",
       "      <th>finalGame</th>\n",
       "      <th>retroID</th>\n",
       "      <th>bbrefID</th>\n",
       "    </tr>\n",
       "  </thead>\n",
       "  <tbody>\n",
       "    <tr>\n",
       "      <th>0</th>\n",
       "      <td>1985</td>\n",
       "      <td>ATL</td>\n",
       "      <td>NL</td>\n",
       "      <td>barkele01</td>\n",
       "      <td>870000</td>\n",
       "      <td>1955.0</td>\n",
       "      <td>7.0</td>\n",
       "      <td>27.0</td>\n",
       "      <td>USA</td>\n",
       "      <td>KY</td>\n",
       "      <td>...</td>\n",
       "      <td>Barker</td>\n",
       "      <td>Leonard Harold</td>\n",
       "      <td>225.0</td>\n",
       "      <td>77.0</td>\n",
       "      <td>R</td>\n",
       "      <td>R</td>\n",
       "      <td>1976-09-14</td>\n",
       "      <td>1987-09-26</td>\n",
       "      <td>barkl001</td>\n",
       "      <td>barkele01</td>\n",
       "    </tr>\n",
       "  </tbody>\n",
       "</table>\n",
       "<p>1 rows × 28 columns</p>\n",
       "</div>"
      ],
      "text/plain": [
       "   yearID teamID lgID   playerID  salary  birthYear  birthMonth  birthDay  \\\n",
       "0    1985    ATL   NL  barkele01  870000     1955.0         7.0      27.0   \n",
       "\n",
       "  birthCountry birthState    ...     nameLast       nameGiven  weight  height  \\\n",
       "0          USA         KY    ...       Barker  Leonard Harold   225.0    77.0   \n",
       "\n",
       "  bats throws       debut   finalGame   retroID    bbrefID  \n",
       "0    R      R  1976-09-14  1987-09-26  barkl001  barkele01  \n",
       "\n",
       "[1 rows x 28 columns]"
      ]
     },
     "execution_count": 339,
     "metadata": {},
     "output_type": "execute_result"
    }
   ],
   "source": [
    "## Merge Salaries and Master dataframes\n",
    "Master_Salaries_players = Salaries.merge(Master, on=['playerID'], how='inner')\n",
    "Master_Salaries_players.head(1)"
   ]
  },
  {
   "cell_type": "code",
   "execution_count": 16,
   "metadata": {
    "collapsed": false
   },
   "outputs": [
    {
     "name": "stdout",
     "output_type": "stream",
     "text": [
      "Information of the highest salary player:\n",
      "Name:  Alex Rodriguez\n",
      "Weight:  225.0\n",
      "Heigh:  75.0\n",
      "Is alive?:  True\n",
      "His salary:  33000000\n",
      "The average salary in year 2009 :  3277646\n"
     ]
    }
   ],
   "source": [
    "## Get the information of the player with highest salary\n",
    "## Highest_salary_player --> HSP\n",
    "info_HSP = Master_Salaries_players.sort_values('salary', axis = 0, ascending=False).iloc[0]\n",
    "\n",
    "slaray_HSP = info_HSP['salary']\n",
    "name_HSP = info_HSP['nameFirst'] + \" \" + info_HSP['nameLast']\n",
    "weight_HSP = info_HSP['weight']\n",
    "heigh_HSP = info_HSP['height']\n",
    "is_alive_HSP = info_HSP['deathMonth'] not in range(1,13) # death month not in 1-12 is alive.\n",
    "yearID_HSP = info_HSP['yearID']\n",
    "average_salary = salary_mean.iloc[yearID_HSP-1985]['salary']\n",
    "\n",
    "print \"Information of the highest salary player:\"\n",
    "print \"Name: \", name_HSP\n",
    "print \"Weight: \", weight_HSP\n",
    "print \"Heigh: \", heigh_HSP\n",
    "print \"Is alive?: \", is_alive_HSP\n",
    "print \"His salary: \", slaray_HSP\n",
    "print \"The average salary in year\",yearID_HSP, \": \",average_salary"
   ]
  },
  {
   "cell_type": "markdown",
   "metadata": {},
   "source": [
    "The highest salary player's name is Alex Rodriguez, his weight is 225.0, his heigh is 75.0. he is alive now. In year 2009, he got the highest salary 33,000,000, and the average salary in that year is 3,277,646."
   ]
  },
  {
   "cell_type": "markdown",
   "metadata": {},
   "source": [
    "## Conclusion"
   ]
  },
  {
   "cell_type": "markdown",
   "metadata": {},
   "source": [
    "In this data analysis project, we found the salary increases over these years, but the metrics homeruns and hits don't have a strong correlation with salaries. In my opinion, the reason is the players with higher salary are different roles in their each team, so the correlation between salary and these metrics are weak in the overall players' data. In addition, there are many missing metrics values, which are omitted in this analysis, that has a certain negative effect for the analysis. "
   ]
  },
  {
   "cell_type": "markdown",
   "metadata": {},
   "source": [
    "Other variables not included in this dataset that could have useful in the analysis. For example, the players with awards more likely have a higher salaries, some teams maybe have a higher average salaries, The players gratuated from a special school would have a higher salaries, etc."
   ]
  }
 ],
 "metadata": {
  "kernelspec": {
   "display_name": "Python 2",
   "language": "python",
   "name": "python2"
  },
  "language_info": {
   "codemirror_mode": {
    "name": "ipython",
    "version": 2
   },
   "file_extension": ".py",
   "mimetype": "text/x-python",
   "name": "python",
   "nbconvert_exporter": "python",
   "pygments_lexer": "ipython2",
   "version": "2.7.11"
  }
 },
 "nbformat": 4,
 "nbformat_minor": 0
}
